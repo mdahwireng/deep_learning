{
 "cells": [
  {
   "cell_type": "markdown",
   "id": "faf8eb01-4d2b-4a01-8640-d7f242c78168",
   "metadata": {},
   "source": [
    "## Simple Network"
   ]
  },
  {
   "cell_type": "code",
   "execution_count": 5,
   "id": "519a81a0-7724-4167-b892-6c5e6429b555",
   "metadata": {},
   "outputs": [],
   "source": [
    "def neural_net(input, weight):\n",
    "    pred = input * weight\n",
    "    return pred"
   ]
  },
  {
   "cell_type": "code",
   "execution_count": 6,
   "id": "10cb0d56-88bd-443b-9949-9288da44956d",
   "metadata": {},
   "outputs": [
    {
     "name": "stdout",
     "output_type": "stream",
     "text": [
      "0.8500000000000001\n"
     ]
    }
   ],
   "source": [
    "# implementation inputs\n",
    "\n",
    "inputs = [8.5, 9.5, 10, 9]\n",
    "\n",
    "weight = 0.1\n",
    "input = inputs[0]\n",
    "\n",
    "pred = neural_net(input, weight)\n",
    "\n",
    "print(pred)"
   ]
  },
  {
   "cell_type": "code",
   "execution_count": 7,
   "id": "16050bc0-f139-4266-b460-cc6ced55b070",
   "metadata": {},
   "outputs": [
    {
     "name": "stdout",
     "output_type": "stream",
     "text": [
      "0.9800000000000001\n"
     ]
    }
   ],
   "source": [
    "# implementation multiple inputs\n",
    "\n",
    "def w_sum(a,b):\n",
    "    assert len(a) == len(b)\n",
    "    output = 0\n",
    "    for i in range(len(a)):\n",
    "        output += a[i] * b[i]\n",
    "\n",
    "    return output\n",
    "\n",
    "\n",
    "def neural_net(input, weight):\n",
    "    pred = w_sum(input, weight)\n",
    "    return pred\n",
    "\n",
    "\n",
    "weights = [0.1, 0.2, 0]\n",
    "\n",
    "#toes = current average number of toes per player\n",
    "#wlrec = current games won (percent)\n",
    "#nfans = fan count (in millions).\n",
    "\n",
    "toes = [8.5, 9.5, 9.9, 9.0]\n",
    "wlrec = [0.65, 0.8, 0.8, 0.9]\n",
    "nfans = [1.2, 1.3, 0.5, 1.0]\n",
    "input = [toes[0],wlrec[0],nfans[0]]\n",
    "pred = neural_net(input,weights)\n",
    "\n",
    "print(pred)"
   ]
  },
  {
   "cell_type": "markdown",
   "id": "0d030599-ce7d-46ef-8c34-63888b866bb0",
   "metadata": {},
   "source": [
    "### vector Maths"
   ]
  },
  {
   "cell_type": "code",
   "execution_count": 9,
   "id": "f437750d-0f97-4458-b674-793e4c872ccb",
   "metadata": {},
   "outputs": [],
   "source": [
    "def elementwise_multiplication(vec_a, vec_b):\n",
    "    assert len(vec_a) == len(vec_b)\n",
    "    output =  []\n",
    "\n",
    "    for i in range(len(vec_a)):\n",
    "        output[i] = vec_a[i] * vec_b[i]\n",
    "\n",
    "    return output\n",
    "\n",
    "\n",
    "\n",
    "def elementwise_addition(vec_a, vec_b):\n",
    "    assert len(vec_a) == len(vec_b)\n",
    "    output =  []\n",
    "\n",
    "    for i in range(len(vec_a)):\n",
    "        output[i] = vec_a[i] + vec_b[i]\n",
    "\n",
    "    return output\n",
    "\n",
    "\n",
    "def vector_sum(vec_a):\n",
    "    output =  0\n",
    "\n",
    "    for num in vec_a:\n",
    "        output += num\n",
    "\n",
    "    return output\n",
    "\n",
    "\n",
    "def vector_average(vec_a):\n",
    "    return vector_sum(vec_a)/len(vec_a)"
   ]
  },
  {
   "cell_type": "markdown",
   "id": "e521ad03-1d05-4f29-945d-989dafd7d4f4",
   "metadata": {},
   "source": [
    "### Implementation with numpy"
   ]
  },
  {
   "cell_type": "code",
   "execution_count": 13,
   "id": "2fb7a400-19e7-43ee-94e6-260d34d8ba4f",
   "metadata": {},
   "outputs": [
    {
     "name": "stdout",
     "output_type": "stream",
     "text": [
      "0.9800000000000001\n"
     ]
    }
   ],
   "source": [
    "import numpy as np\n",
    "\n",
    "weights = [0.1, 0.2, 0]\n",
    "\n",
    "toes = [8.5, 9.5, 9.9, 9.0]\n",
    "wlrec = [0.65, 0.8, 0.8, 0.9]\n",
    "nfans = [1.2, 1.3, 0.5, 1.0]\n",
    "inputs = [toes[0],wlrec[0],nfans[0]]\n",
    "\n",
    "weights = np.array(weights)\n",
    "toes = np.array(toes)\n",
    "wlrec = np.array(wlrec)\n",
    "nfans = np.array(nfans)\n",
    "inputs = np.array(inputs)\n",
    "\n",
    "\n",
    "def neural_net(inputs, weights):\n",
    "    pred =  np.dot(inputs, weights)\n",
    "    return pred\n",
    "\n",
    "\n",
    "pred = neural_net(input,weights)\n",
    "print(pred)"
   ]
  },
  {
   "cell_type": "code",
   "execution_count": 52,
   "id": "c1966b02-531f-4fbe-bfb7-2adc34364687",
   "metadata": {},
   "outputs": [
    {
     "name": "stdout",
     "output_type": "stream",
     "text": [
      "[0.2135 0.145  0.5065]\n"
     ]
    }
   ],
   "source": [
    "# implement multiple inputs on a two layers with 3 nodes each architecture\n",
    "\n",
    "weights = [0.1, 0.2, 0]\n",
    "\n",
    "toes = [8.5, 9.5, 9.9, 9.0]\n",
    "wlrec = [0.65, 0.8, 0.8, 0.9]\n",
    "nfans = [1.2, 1.3, 0.5, 1.0]\n",
    "inputs = [toes,wlrec,nfans]\n",
    "inputs = np.array(inputs).T     # transpose to get the shape like a table, a column for each variable / node\n",
    "\n",
    "\n",
    "                    # toes % win # fans\n",
    "ih_wgt = np.array([\n",
    "                    [0.1, 0.2, -0.1], # hid[0] hidden node 0\n",
    "                    [-0.1,0.1, 0.9], # hid[1]   hidden node 1\n",
    "                    [0.1, 0.4, 0.1]]).T # hid[2] hidden node 2   transpose to get a column for each node\n",
    "\n",
    "\n",
    "                    # hid[0] hid[1] hid[2]\n",
    "hp_wgt = np.array([\n",
    "                    [0.3, 1.1, -0.3], # hurt?  prediction node 0\n",
    "                    [0.1, 0.2, 0.0], # win?    prediction node 1\n",
    "                    [0.0, 1.3, 0.1] ]).T # sad?  prediction node 2  transpose to get a column for each node\n",
    "\n",
    "weights = np.array([ih_wgt, hp_wgt])  # just like the concatenation of 2 dataframes\n",
    "\n",
    "                                    ### nb  np.array([a.T, b.T]) != np.array([a, b]).T\n",
    "\n",
    "\n",
    "def neural_net(inputs, weights):\n",
    "    hid = np.dot(inputs, weights[0])\n",
    "    pred =  np.dot(hid, weights[1])\n",
    "    return pred\n",
    "\n",
    "\n",
    "pred = neural_net(inputs[0],weights)\n",
    "print(pred)"
   ]
  }
 ],
 "metadata": {
  "kernelspec": {
   "display_name": "Python 3 (ipykernel)",
   "language": "python",
   "name": "python3"
  },
  "language_info": {
   "codemirror_mode": {
    "name": "ipython",
    "version": 3
   },
   "file_extension": ".py",
   "mimetype": "text/x-python",
   "name": "python",
   "nbconvert_exporter": "python",
   "pygments_lexer": "ipython3",
   "version": "3.8.18"
  }
 },
 "nbformat": 4,
 "nbformat_minor": 5
}
